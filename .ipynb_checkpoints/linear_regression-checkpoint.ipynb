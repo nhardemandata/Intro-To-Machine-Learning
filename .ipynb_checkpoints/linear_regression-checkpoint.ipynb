{
 "cells": [
  {
   "cell_type": "markdown",
   "id": "d16b1612-d631-489a-8514-7e7917909a5a",
   "metadata": {},
   "source": [
    "## Linear Regression"
   ]
  },
  {
   "cell_type": "markdown",
   "id": "cd4f93e3-14b3-4285-a7e7-bf1806bdc503",
   "metadata": {},
   "source": [
    "---"
   ]
  },
  {
   "cell_type": "markdown",
   "id": "bffbbd93-37d8-4661-90f3-10bb340500a2",
   "metadata": {},
   "source": [
    "### Import Relevant Libraries"
   ]
  },
  {
   "cell_type": "code",
   "execution_count": 14,
   "id": "bfb35096-b19f-4724-8645-2b60910c9d63",
   "metadata": {},
   "outputs": [],
   "source": [
    "import pandas as pd # for data handling\n",
    "import numpy as np # for numerical operations"
   ]
  },
  {
   "cell_type": "markdown",
   "id": "a3d87e21-1ae1-45a4-8532-d97a205c4085",
   "metadata": {},
   "source": [
    "---"
   ]
  },
  {
   "cell_type": "markdown",
   "id": "837ac299-77b2-4669-ab18-f3a952be4890",
   "metadata": {},
   "source": [
    "### Data"
   ]
  },
  {
   "cell_type": "code",
   "execution_count": 15,
   "id": "c8cb7ced-4293-46b8-9e74-889a7ab8c865",
   "metadata": {},
   "outputs": [
    {
     "name": "stdout",
     "output_type": "stream",
     "text": [
      "      X     Y\n",
      "0 -20.0 -69.0\n",
      "1 -10.0 -36.0\n",
      "2  -5.0 -20.0\n",
      "3   0.0  -8.0\n",
      "4   4.0   6.0\n",
      "5   9.0  21.0\n",
      "6  15.0  35.0\n",
      "7  30.0  81.0\n"
     ]
    }
   ],
   "source": [
    "data_array = np.array([[-20.00, -69.00], [-10.00, -36.00], [-5.00, -20.00], \n",
    "                       [0.00, -8.00], [4.00, 6.00], [9.00, 21.00], [15.00, 35.00], [30.00, 81.00]]) # load data into array\n",
    "data = pd.DataFrame(data_array, columns=['X', 'Y']) # create dataframe with columns X and Y\n",
    "print(data) # print the data"
   ]
  },
  {
   "cell_type": "markdown",
   "id": "f20fe315-466c-46ea-bb2b-f030f4164267",
   "metadata": {},
   "source": [
    "---"
   ]
  },
  {
   "cell_type": "markdown",
   "id": "9ddd98d6-7171-41d2-ba75-e1f76a0522b4",
   "metadata": {},
   "source": [
    "### Linear Regression (LR) Function\n",
    "#### Returns:\n",
    "- sorted traning dataset\n",
    "- optimal model parameters\n",
    "- discrepencies between model predictions and actual values of training dataset\n",
    "- mean squared error"
   ]
  },
  {
   "cell_type": "markdown",
   "id": "ff723666-70c1-4a22-9d8d-a4bff9b16bfa",
   "metadata": {},
   "source": [
    "#### Equations Implemented:\n",
    "##### vector X containing all x values:\n",
    "$$\n",
    "X = \\begin{bmatrix} x_0 & \\dots & x_{n-1} \\end{bmatrix}\n",
    "$$\n",
    "##### vector Y containing all y values:\n",
    "$$\n",
    "Y = \\begin{bmatrix} y_0 & \\dots & y_{n-1} \\end{bmatrix}\n",
    "$$\n",
    "##### summation of all x values:\n",
    "$$\n",
    "\\sum x_i = x_0 + x_1 + \\dots + x_{n-1}\n",
    "$$\n",
    "##### summation of all y values:\n",
    "$$\n",
    "\\sum y_i = y_0 + y_1 + \\dots + y_{n-1}\n",
    "$$\n",
    "##### summation of all squared x values:\n",
    "$$\n",
    "\\sum x_i^2 = x_0^2 + x_1^2 + \\dots + x_{n-1}^2\n",
    "$$\n",
    "##### summation of all products of x and y values:\n",
    "$$\n",
    "\\sum x_i y_i = x_0 y_0 + x_1 y_1 + \\dots + x_{n-1} y_{n-1}\n",
    "$$\n",
    "##### optimal slope m:\n",
    "$$\n",
    "m = \\frac{n \\sum x_i y_i - \\sum x_i \\sum y_i}{n \\sum x_i^2 - (\\sum x_i)^2}\n",
    "$$\n",
    "##### optimal intercept b:\n",
    "$$\n",
    "b = \\frac{\\sum x_i^2 \\sum y_i - \\sum x_i \\sum x_i y_i}{n \\sum x_i^2 - (\\sum x_i)^2}\n",
    "$$\n",
    "##### absolute error:\n",
    "$$\n",
    "|Err| = |y_i - \\hat{y_i}|\n",
    "$$\n",
    "##### mean squared error:\n",
    "$$\n",
    "MSE = \\frac{1}{n} ||\\hat{y}\\ - y||^{2}_{2} = \\frac{1}{n} \\sum_{i = 0}^{n - 1} (m . x_i + b - y_i)^2\n",
    "$$"
   ]
  },
  {
   "cell_type": "markdown",
   "id": "68c0d6d2-7d04-40bd-9746-dc9be92a9333",
   "metadata": {},
   "source": [
    "---"
   ]
  },
  {
   "cell_type": "markdown",
   "id": "ff19014b-edf5-47ad-ae7d-51eecb382835",
   "metadata": {},
   "source": [
    "### Function Implementation"
   ]
  },
  {
   "cell_type": "code",
   "execution_count": 16,
   "id": "09b58237-eda6-42d1-b27a-a1f735009528",
   "metadata": {},
   "outputs": [],
   "source": [
    "def LR(data): # linear regression function\n",
    "    sorted_data = sorted(data.to_numpy(), key=lambda point: point[0]) # sort the data into a list of tuples starting at index 0 # sort the data according to x value\n",
    "    n = len(data) # number of elements\n",
    "    slopes_list = [] # list to hold the slope values\n",
    "    intercepts_list = [] # list to hold the intercept values\n",
    "    yhats = [] # list to hold the yhat values\n",
    "    sum_x = 0 # Initialize the summation of all x values to zero\n",
    "    sum_y = 0 # initialize the summation of all y values to zero\n",
    "    sum_x_squared = 0 # initialize the summation of all x values squared to zero\n",
    "    sum_x_times_y = 0 # initialize the summation of the product of all x and y values to zero\n",
    "    errs = [] # list to hold the error values\n",
    "    MSE = 0  # Initialize the mean squared error to zero\n",
    "\n",
    "    X = data['X'].to_numpy() # column X becomes array of X values\n",
    "    Y = data['Y'].to_numpy() # column Y becomes array of Y values\n",
    "\n",
    "    \"\"\"summation of x values section\"\"\"\n",
    "    for x in X: # loop through X vector\n",
    "        sum_x += x # append new x value from X vector to the summation through each iteration\n",
    "\n",
    "    \"\"\"summation of y values section\"\"\"\n",
    "    for y in Y: # loop through Y vector\n",
    "        sum_y += y # append new y value from Y vector to the summation through each iteration\n",
    "\n",
    "    \"\"\"summation of x squared values section\"\"\"\n",
    "    for x in X: # loop through X vector\n",
    "        a = x * x # square the current value of x\n",
    "        sum_x_squared += a # append newly squared value from X vector to the summation through each iteration\n",
    "\n",
    "    \"\"\"summation of all xy products section\"\"\"\n",
    "    for i in range(n): # iterate n number of times\n",
    "        a = X[i] * Y[i] # the product of x and y at the same index is stored in variable a\n",
    "        sum_x_times_y += a # the total sum of the xy products is updated\n",
    "\n",
    "    \"\"\"optimal model parameters section\"\"\"\n",
    "    slope_model_parameters = ((n * sum_x_times_y) - (sum_x * sum_y)) / ((n * sum_x_squared) - (sum_x)**2) # calculate the slope per the formula listed above\n",
    "    intercept_model_parameters = ((sum_x_squared * sum_y) - (sum_x * sum_x_times_y)) / ((n * sum_x_squared) - (sum_x)**2) # calculate the intercept per the formula listed above\n",
    "\n",
    "    slope_model_parameters_rounded = round(slope_model_parameters, 2) # round slope model parameter to two decimal places\n",
    "    intercept_model_parameters_rounded = round(intercept_model_parameters, 2) # round intercept model parameter to two decimal places\n",
    "\n",
    "    \"\"\"pairwise slopes and intercepts section\"\"\"\n",
    "    for i in range(n - 1): # iteration for comparing point pairs\n",
    "        x0, y0 = sorted_data[i] # a pair of corresponding points\n",
    "        x1, y1 = sorted_data[i + 1] # the next pair of corresponding points\n",
    "        m = (y1 - y0) / (x1 - x0) # slope\n",
    "        b = ((y1 * x0) - (y0 * x1)) / (x0 - x1) # intercept\n",
    "        slopes_list.append(round(m, 2)) # add the newly calculated slope to the slopes list, round to two decimal places\n",
    "        intercepts_list.append(round(b, 2)) # add the newly calculated intercept to the intercepts list, round to two decimal places\n",
    "        \n",
    "    \"\"\"yhat section\"\"\"\n",
    "    for i, (x, y) in enumerate(sorted_data): # iterate through x values and y values by index i\n",
    "        yhat = slope_model_parameters * x + intercept_model_parameters # yhat formula\n",
    "        yhat = round(yhat, 2) # round yhat value to two decimal places\n",
    "        yhats.append((i, yhat)) # add to yhat values list\n",
    "\n",
    "    \"\"\"discrepencies section\"\"\"\n",
    "    for i in range(n): # loop to iterate\n",
    "        a = abs(Y[i] - yhats[i]) # value of the discrepency\n",
    "        errs.append(a) # append individual discrepencies to errors list\n",
    "\n",
    "    \"\"\"mean squared error section\"\"\"\n",
    "    if n > 0: # assume n is zero initially, until the length of the data determines the number of elements above\n",
    "        error = 0 # combined error is initially zero until computed\n",
    "        for x, y in sorted_data: # loop through the x values and the y values\n",
    "            error += ((slope_model_parameters * x) + intercept_model_parameters - y) ** 2  # square the individual errors then add them\n",
    "        MSE = error / n  # calculate the finalized mean squared error before rounding\n",
    "\n",
    "    MSE = round(MSE, 6) # round the mean squared error to six decimal places\n",
    "    \n",
    "    print(f\"\\nThe training dataset:\\n\") # print information of impending output\n",
    "\n",
    "    for i, (x, y) in enumerate(sorted_data): # loop through the data by index\n",
    "        print(f\"x[{i}] = {x} y[{i}] = {y}\") # print each x, y with index\n",
    "\n",
    "    print(f\"\\nOptimal model parameters obtained by the program:\\n\") # print information of impending output\n",
    "\n",
    "    print(f\"m = {slope_model_parameters_rounded}\") # print the slope optimal model parameter\n",
    "    print(f\"b = {intercept_model_parameters_rounded}\\n\") # print the intercept optimal model parameter\n",
    "\n",
    "    print(f\"The discrepancies between the model predictions and the actual values of the training dataset:\\n\") # print information of impending output\n",
    "    for i, (x, y) in enumerate(sorted_data): # iterate through x values and y values by index i\n",
    "        yhat = yhats[i][1] # assign yhat the value at that specific index in the yhats list\n",
    "        error = round(errs[i][1], 2) # assign error the value at that specific index in the errors list and round\n",
    "        print(f\"x[{i}] = {x:.2f}, y[{i}] = {y:.2f}, yhat[{i}] = {yhat:.2f} |Err| = {error:.2f}\") # print x values, y values, yhat values, and error values all with two decimal places\n",
    "\n",
    "    print(f\"\\nMean Squared Error = {MSE}\") # print the mean squared error value"
   ]
  },
  {
   "cell_type": "markdown",
   "id": "1c89b7c6-91dd-4376-be34-92c648c9d0b6",
   "metadata": {},
   "source": [
    "---"
   ]
  },
  {
   "cell_type": "code",
   "execution_count": 17,
   "id": "198cab90-6fe6-4af3-9e19-74771244ea9e",
   "metadata": {},
   "outputs": [
    {
     "name": "stdout",
     "output_type": "stream",
     "text": [
      "\n",
      "The training dataset:\n",
      "\n",
      "x[0] = -20.0 y[0] = -69.0\n",
      "x[1] = -10.0 y[1] = -36.0\n",
      "x[2] = -5.0 y[2] = -20.0\n",
      "x[3] = 0.0 y[3] = -8.0\n",
      "x[4] = 4.0 y[4] = 6.0\n",
      "x[5] = 9.0 y[5] = 21.0\n",
      "x[6] = 15.0 y[6] = 35.0\n",
      "x[7] = 30.0 y[7] = 81.0\n",
      "\n",
      "Optimal model parameters obtained by the program:\n",
      "\n",
      "m = 2.96\n",
      "b = -7.27\n",
      "\n",
      "The discrepancies between the model predictions and the actual values of the training dataset:\n",
      "\n",
      "x[0] = -20.00, y[0] = -69.00, yhat[0] = -66.51 |Err| = 2.49\n",
      "x[1] = -10.00, y[1] = -36.00, yhat[1] = -36.89 |Err| = 0.89\n",
      "x[2] = -5.00, y[2] = -20.00, yhat[2] = -22.08 |Err| = 2.08\n",
      "x[3] = 0.00, y[3] = -8.00, yhat[3] = -7.27 |Err| = 0.73\n",
      "x[4] = 4.00, y[4] = 6.00, yhat[4] = 4.58 |Err| = 1.42\n",
      "x[5] = 9.00, y[5] = 21.00, yhat[5] = 19.39 |Err| = 1.61\n",
      "x[6] = 15.00, y[6] = 35.00, yhat[6] = 37.17 |Err| = 2.17\n",
      "x[7] = 30.00, y[7] = 81.00, yhat[7] = 81.60 |Err| = 0.60\n",
      "\n",
      "Mean Squared Error = 2.685692\n"
     ]
    }
   ],
   "source": [
    "LR(data)"
   ]
  },
  {
   "cell_type": "markdown",
   "id": "7aee6727-d13e-467e-9334-726dade884d8",
   "metadata": {},
   "source": [
    "---"
   ]
  }
 ],
 "metadata": {
  "kernelspec": {
   "display_name": "Python 3 (ipykernel)",
   "language": "python",
   "name": "python3"
  },
  "language_info": {
   "codemirror_mode": {
    "name": "ipython",
    "version": 3
   },
   "file_extension": ".py",
   "mimetype": "text/x-python",
   "name": "python",
   "nbconvert_exporter": "python",
   "pygments_lexer": "ipython3",
   "version": "3.13.2"
  }
 },
 "nbformat": 4,
 "nbformat_minor": 5
}
