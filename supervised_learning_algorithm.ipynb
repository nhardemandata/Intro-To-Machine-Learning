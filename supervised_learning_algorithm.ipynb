{
 "cells": [
  {
   "cell_type": "markdown",
   "id": "f78f00b7-7762-4160-8ed5-415adb447854",
   "metadata": {},
   "source": [
    "## Supervised Learning Algorithm"
   ]
  },
  {
   "cell_type": "markdown",
   "id": "4329b0e1-d10a-4145-a9ab-eef2a10c4272",
   "metadata": {},
   "source": [
    "---"
   ]
  },
  {
   "cell_type": "markdown",
   "id": "86efcbb6-5f58-4add-ac5a-8899d864be69",
   "metadata": {},
   "source": [
    "### Import Relevant Libraries"
   ]
  },
  {
   "cell_type": "code",
   "execution_count": 1,
   "id": "d4132468-9f7f-44f5-8d6e-1713f349686b",
   "metadata": {},
   "outputs": [],
   "source": [
    "import pandas as pd # for data handling\n",
    "import numpy as np # for numerical operations"
   ]
  },
  {
   "cell_type": "markdown",
   "id": "16fc90d8-787a-45d8-a865-1ab9913f6309",
   "metadata": {},
   "source": [
    "---"
   ]
  },
  {
   "cell_type": "markdown",
   "id": "07830c69-2ba4-4185-99f3-528cecb95bc7",
   "metadata": {},
   "source": [
    "### Data"
   ]
  },
  {
   "cell_type": "code",
   "execution_count": 2,
   "id": "a896b7c3-4314-4476-9092-929d97065ab9",
   "metadata": {},
   "outputs": [
    {
     "name": "stdout",
     "output_type": "stream",
     "text": [
      "      X     Y\n",
      "0 -20.0 -69.0\n",
      "1 -10.0 -36.0\n",
      "2  -5.0 -20.0\n",
      "3   0.0  -8.0\n",
      "4   4.0   6.0\n",
      "5   9.0  21.0\n",
      "6  15.0  35.0\n",
      "7  30.0  81.0\n"
     ]
    }
   ],
   "source": [
    "data_array = np.array([[-20.00, -69.00], [-10.00, -36.00], [-5.00, -20.00], \n",
    "                       [0.00, -8.00], [4.00, 6.00], [9.00, 21.00], [15.00, 35.00], [30.00, 81.00]])\n",
    "data = pd.DataFrame(data_array, columns=['X', 'Y'])\n",
    "print(data)"
   ]
  },
  {
   "cell_type": "markdown",
   "id": "85e854a6-7dec-45cb-98a8-7bad434b173a",
   "metadata": {},
   "source": [
    "---"
   ]
  },
  {
   "cell_type": "markdown",
   "id": "6a110f3b-9799-4077-968d-fe4c1d680bda",
   "metadata": {},
   "source": [
    "### Supervised Learning Algorithm (SLA) Function\n",
    "#### Returns:\n",
    "- sorted data\n",
    "- pairwise slopes and intercepts\n",
    "- model parameters\n",
    "- prediction/actual discrepencies\n",
    "- mean squared error"
   ]
  },
  {
   "cell_type": "markdown",
   "id": "261fca1e-b0eb-4c94-84d8-087ed4ab5cce",
   "metadata": {},
   "source": [
    "#### Equations Implemented:\n",
    "##### slope-intercept form of a line:\n",
    "$$\n",
    "y = mx + b\n",
    "$$\n",
    "##### y_hat:\n",
    "$$\n",
    "\\hat{y}\\ = mx + b\n",
    "$$\n",
    "##### mean squared error:\n",
    "$$\n",
    "MSE = \\frac{1}{n} ||\\hat{y}\\ - y||^{2}_{2} = \\frac{1}{n} \\sum_{i = 0}^{n - 1} (m . x_i + b - y_i)^2\n",
    "$$"
   ]
  },
  {
   "cell_type": "code",
   "execution_count": 5,
   "id": "9da07e2c-61b6-4c15-93d5-a95aae74fd9d",
   "metadata": {},
   "outputs": [],
   "source": [
    "def SLA(data): # supervised learning algorithm function\n",
    "    n = len(data) # n is the number of elements\n",
    "    slopes_list = [] # list to hold the slope values\n",
    "    intercepts_list = [] # list to hold the intercept values\n",
    "    yhats = [] # list to hold the yhat values\n",
    "    mse = 0  # Initialize the mean squared error to zero\n",
    "\n",
    "    \"\"\"sorted data section\"\"\"\n",
    "    data = sorted(data.to_numpy(), key=lambda point: point[0]) # sort the data into a list of tuples starting at index 0\n",
    "\n",
    "    \"\"\"pairwise slopes and intercepts section\"\"\"\n",
    "    for i in range(n - 1): # iteration for comparing point pairs\n",
    "        x0, y0 = data[i] # a pair of corresponding points\n",
    "        x1, y1 = data[i + 1] # the next pair of corresponding points\n",
    "        m = (y1 - y0) / (x1 - x0) # slope\n",
    "        b = ((y1 * x0) - (y0 * x1)) / (x0 - x1) # intercept\n",
    "        slopes_list.append(round(m, 2)) # add the newly calculated slope to the slopes list, round to two decimal places\n",
    "        intercepts_list.append(round(b, 2)) # add the newly calculated intercept to the intercepts list, round to two decimal places\n",
    "\n",
    "    slope_model_parameters = np.mean(slopes_list) # find the slope model parameter once all slopes are computed\n",
    "    intercept_model_parameters = np.mean(intercepts_list) # find the intercept model parameter once all intercepts are computed\n",
    "\n",
    "    \"\"\"model parameters section\"\"\"\n",
    "    slope_model_parameters_rounded = round(slope_model_parameters, 2) # round slope model parameter to two decimal places\n",
    "    intercept_model_parameters_rounded = round(intercept_model_parameters, 2) # round intercept model parameter to two decimal places\n",
    "\n",
    "    \"\"\"yhat section\"\"\"\n",
    "    for i, (x, y) in enumerate(data): # iterate through x values and y values by index i\n",
    "        yhat = slope_model_parameters * x + intercept_model_parameters # yhat formula\n",
    "        yhat = round(yhat, 2) # round yhat value to two decimal places\n",
    "        yhats.append((i, yhat)) # add to yhat values list\n",
    "\n",
    "    \"\"\"mean squared error section\"\"\"\n",
    "    if n > 0: # assume n is zero initially, until the length of the data determines the number of elements above\n",
    "        error = 0 # combined error is initially zero until computed\n",
    "        for x, y in data: # loop through the x values and the y values\n",
    "            error += ((slope_model_parameters * x) + intercept_model_parameters - y) ** 2  # square the individual errors then add them\n",
    "        MSE = error / n  # calculate the finalized mean squared error before rounding\n",
    "\n",
    "    MSE = round(MSE, 6) # round the mean squared error to six decimal places\n",
    "\n",
    "    \"\"\"Returning the sorted data, slopes and intercepts, model parameters, discrepencies, and MSE\"\"\"\n",
    "    print(f\"\\nAfter sorting the dataset of {n} points:\\n\") # print information of impending output\n",
    "\n",
    "    for i, (x, y) in enumerate(data): # loop through the data by index\n",
    "        print(f\"X[{i}] = {x} Y[{i}] = {y}\") # print each x, y with index\n",
    "\n",
    "    print(f\"\\nThe pairwise slopes and intercepts:\\n\") # print information of impending output\n",
    "\n",
    "    for i, (m, b) in enumerate(zip(slopes_list, intercepts_list)): # loop through the slopes and intercepts, zipping them according to their indices\n",
    "        print(f\"m[{i}] = {m} b[{i}] = {b}\") # print each slope and intercepts per index\n",
    "\n",
    "    print(f\"\\nThe model parameters obtained by the program:\\n\") # print information of impending output\n",
    "    print(f\"Slope Estimate = {slope_model_parameters_rounded}\") # print the model slope estimate\n",
    "    print(f\"Intercept Estimate = {intercept_model_parameters_rounded}\") # print the model intercept estimate\n",
    "\n",
    "    print(f\"\\nThe discrepancies between the model predictions and the actual values of the dataset:\\n\") # print information of impending output\n",
    "\n",
    "    for i, yhat in yhats: # loop through the individual yhat values by index\n",
    "        y = data[i][1] # obtain the actual y value corresponding to that index\n",
    "        print(f\"yhat[{i}] = {yhat}, y[{i}] = {y}\") # print the yhat value then the y value per index\n",
    "\n",
    "    print(f\"\\nMean Squared Error = {MSE}\") # print the mean squared error   "
   ]
  },
  {
   "cell_type": "code",
   "execution_count": 6,
   "id": "6f0970bc-b328-4771-a930-a3f4c573b8cc",
   "metadata": {},
   "outputs": [
    {
     "name": "stdout",
     "output_type": "stream",
     "text": [
      "\n",
      "After sorting the dataset of 8 points:\n",
      "\n",
      "X[0] = -20.0 Y[0] = -69.0\n",
      "X[1] = -10.0 Y[1] = -36.0\n",
      "X[2] = -5.0 Y[2] = -20.0\n",
      "X[3] = 0.0 Y[3] = -8.0\n",
      "X[4] = 4.0 Y[4] = 6.0\n",
      "X[5] = 9.0 Y[5] = 21.0\n",
      "X[6] = 15.0 Y[6] = 35.0\n",
      "X[7] = 30.0 Y[7] = 81.0\n",
      "\n",
      "The pairwise slopes and intercepts:\n",
      "\n",
      "m[0] = 3.3 b[0] = -3.0\n",
      "m[1] = 3.2 b[1] = -4.0\n",
      "m[2] = 2.4 b[2] = -8.0\n",
      "m[3] = 3.5 b[3] = -8.0\n",
      "m[4] = 3.0 b[4] = -6.0\n",
      "m[5] = 2.33 b[5] = -0.0\n",
      "m[6] = 3.07 b[6] = -11.0\n",
      "\n",
      "The model parameters obtained by the program:\n",
      "\n",
      "Slope Estimate = 2.97\n",
      "Intercept Estimate = -5.71\n",
      "\n",
      "The discrepancies between the model predictions and the actual values of the dataset:\n",
      "\n",
      "yhat[0] = -65.14, y[0] = -69.0\n",
      "yhat[1] = -35.43, y[1] = -36.0\n",
      "yhat[2] = -20.57, y[2] = -20.0\n",
      "yhat[3] = -5.71, y[3] = -8.0\n",
      "yhat[4] = 6.17, y[4] = 6.0\n",
      "yhat[5] = 21.03, y[5] = 21.0\n",
      "yhat[6] = 38.86, y[6] = 35.0\n",
      "yhat[7] = 83.43, y[7] = 81.0\n",
      "\n",
      "Mean Squared Error = 5.195102\n"
     ]
    }
   ],
   "source": [
    "SLA(data)"
   ]
  },
  {
   "cell_type": "markdown",
   "id": "6bd8ac2b-2d49-416b-8f68-a7e5e43d2c3b",
   "metadata": {},
   "source": [
    "---"
   ]
  }
 ],
 "metadata": {
  "kernelspec": {
   "display_name": "Python 3 (ipykernel)",
   "language": "python",
   "name": "python3"
  },
  "language_info": {
   "codemirror_mode": {
    "name": "ipython",
    "version": 3
   },
   "file_extension": ".py",
   "mimetype": "text/x-python",
   "name": "python",
   "nbconvert_exporter": "python",
   "pygments_lexer": "ipython3",
   "version": "3.13.2"
  }
 },
 "nbformat": 4,
 "nbformat_minor": 5
}
