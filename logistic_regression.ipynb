{
 "cells": [
  {
   "cell_type": "markdown",
   "id": "e127392c-2147-4410-8094-ef832f48d0a9",
   "metadata": {},
   "source": [
    "## Logistic Regression"
   ]
  },
  {
   "cell_type": "markdown",
   "id": "334988a2-5c5c-4db4-88fb-73ba1bc4027a",
   "metadata": {},
   "source": [
    "---"
   ]
  },
  {
   "cell_type": "markdown",
   "id": "1a7df5b0-7cc6-4ae5-bc64-dc2b6968f76c",
   "metadata": {},
   "source": [
    "### Import Relevant Libraries"
   ]
  },
  {
   "cell_type": "code",
   "execution_count": 54,
   "id": "b4a0f60a-397c-47cb-a20c-7ded0552a7e6",
   "metadata": {},
   "outputs": [],
   "source": [
    "import pandas as pd # for data handling\n",
    "import numpy as np # for numerical operations\n",
    "import matplotlib.pyplot as plt # for visualization"
   ]
  },
  {
   "cell_type": "markdown",
   "id": "4a831832-ea49-4681-8922-d5c999376d62",
   "metadata": {},
   "source": [
    "---"
   ]
  },
  {
   "cell_type": "markdown",
   "id": "bba375fe-0df3-451f-8800-b0e9f07e4d3b",
   "metadata": {},
   "source": [
    "### Data"
   ]
  },
  {
   "cell_type": "code",
   "execution_count": 55,
   "id": "9d71bf75-3638-4b52-a041-606ee4df01a9",
   "metadata": {},
   "outputs": [],
   "source": [
    "X = np.array([1, 2, 3, 4, 5, 6, 7, 8, 9, 10]) # features\n",
    "Y = np.array([0, 0, 0, 0, 0, 1, 1, 1, 1, 1]) # lables"
   ]
  },
  {
   "cell_type": "markdown",
   "id": "179bf5a9-3293-4cf0-9a18-cff0e909e927",
   "metadata": {},
   "source": [
    "---"
   ]
  },
  {
   "cell_type": "markdown",
   "id": "fa312744-7712-453d-9a69-160f6fd6e634",
   "metadata": {},
   "source": [
    "### Logistic Regression (LogR) Function\n",
    "#### Returns:\n",
    "- epochs with updated cost, weight, and intercept\n",
    "- model testing predictions\n",
    "- gradient descent convergence"
   ]
  },
  {
   "cell_type": "markdown",
   "id": "99d3b417-342f-43ee-9b15-2a46de45148f",
   "metadata": {},
   "source": [
    "#### Equations Implemented:\n",
    "##### sigmoid function:\n",
    "$$\n",
    "\\hat{y}\\ = \\sigma(z) = \\frac{1}{1 + e^{-z}}\n",
    "$$\n",
    "##### cost function:\n",
    "$$\n",
    "Cost(W, b) = -\\frac{1}{m}\\sum_{i = 1}^{m}[y_i log(\\hat{y_i}) + (1 - y_i)log(1 - \\hat{y_i})]\n",
    "$$\n",
    "##### gradient descent to update model parameters W and b:\n",
    "$$\n",
    "w_{new} = w_{old} - \\alpha * \\frac{\\partial Cost}{\\partial w}\n",
    "$$\n",
    "$$\n",
    "b_{new} = b_{old} - \\alpha * \\frac{\\partial Cost}{\\partial b}\n",
    "$$"
   ]
  },
  {
   "cell_type": "markdown",
   "id": "a3b53139-9459-43ef-a249-f2d1cb356873",
   "metadata": {},
   "source": [
    "---"
   ]
  },
  {
   "cell_type": "markdown",
   "id": "9c770924-05e6-4b68-a97a-851bfa9cc38e",
   "metadata": {},
   "source": [
    "### Function Implementation"
   ]
  },
  {
   "cell_type": "code",
   "execution_count": 56,
   "id": "c4bff323-f7e5-4186-91b5-c60f44d6fb55",
   "metadata": {},
   "outputs": [],
   "source": [
    "# the Logistic Regresstion Function definition\n",
    "def LogR(X, Y): # defining the Logistic Regression Function to take the X and Y values\n",
    "\n",
    "    # other information required\n",
    "    epochs = 1000 # number of epochs\n",
    "    learning_rate = 0.1 # defined learning rate\n",
    "    features = 1 # feature to label\n",
    "    data_points = 10 # number of data points\n",
    "    w = 0.5 # initial weight\n",
    "    b = 0.0 # initial intercept\n",
    "    m = len(X) # length of X\n",
    "    costs = [] # list of costs\n",
    "    \n",
    "    # the Sigmoid Function definition\n",
    "    def SigmoidFunction(z): # defining the sigmoid function based upon variable z\n",
    "        return (1 / (1 + np.exp(-z))) # returns sigmoid value\n",
    "        # end of Sigmoid Function definition\n",
    "    \n",
    "    # initial output\n",
    "    print(\"Training Logistic Regression...\\n\") # beginning output of the Logistic Regression Function\n",
    "\n",
    "    # iterating through the epochs through a for loop\n",
    "    for epoch in range(epochs): # for the total number of epochs\n",
    "        z = w * X + b # set the value of z to be used in sigmoid function\n",
    "        y_hat = SigmoidFunction(z) # the sigmoid function's value is the y_hat\n",
    "\n",
    "        # costs - do I need extra parens??\n",
    "        cost = -(1 / m) * np.sum((Y * np.log(y_hat)) + (1 - Y) * np.log(1 - y_hat)) # compute the individual cost for the actual vs prediction\n",
    "        costs.append(cost) # appead cost to the costs list\n",
    "    \n",
    "        # gradient computations for weight and intercept\n",
    "        dw = (1 / m) * np.dot((y_hat - Y), X) # weight gradient\n",
    "        db = (1 / m) * np.sum(y_hat - Y) # intercept gradient\n",
    "\n",
    "        # printing epoch, cost, weight and intercept\n",
    "        if epoch % 100 == 0: # is the epoch one of the ones to be printed?\n",
    "            print(f\"Epoch {epoch}: Cost = {cost:.4f}, W = {w:.4f}, b = {b:.4f}\") # print the relevant information\n",
    "\n",
    "        # update weight and intercept after each epoch iteration\n",
    "        w = w - learning_rate * dw # new weight value after one iteration\n",
    "        b = b - learning_rate * db # new intercept value after one iteration\n",
    "\n",
    "    # the Prediction Function definition\n",
    "    def PredictionFunction(X): # defining the prediction function based on features, weights and intercepts\n",
    "        z = w * X + b # value of z for the Sigmoid Function\n",
    "        prediction = SigmoidFunction(z) # the label prediction is the value of the sigmoid function\n",
    "        return np.where(prediction >= 0.5, 1, 0) # return the prediction values based on being greater than/equal to or less than 0.5\n",
    "        # end of Prediction Function definition\n",
    "    \n",
    "    # Logistic Regression Function testing model's output\n",
    "    print(\"\\nTesting Model:\") # alert for impending output\n",
    "\n",
    "    # predictions for the specified points based upon the Prediction Function\n",
    "    print(f\"Prediction for x = 4.5: {PredictionFunction(4.5)}\") # prediction for 4.5\n",
    "    print(f\"Prediction for x = 6.5: {PredictionFunction(6.5)}\\n\") # prediction for 6.5\n",
    "\n",
    "    # graph for the gradient descent\n",
    "    plt.plot(range(epochs), costs) # define the axes\n",
    "    plt.title(\"Gradient Descent Convergence\") # title of the plot\n",
    "    plt.xlabel(\"Epoch\") #title of the x-axis\n",
    "    plt.ylabel(\"Cost\") # title of the y-axis\n",
    "    plt.grid(True) # place grid lines on the plot\n",
    "    plt.show() # output the plot\n",
    "    # end of Logistic Regression Function definition"
   ]
  },
  {
   "cell_type": "markdown",
   "id": "45494531-decf-48e5-b690-883e233aad23",
   "metadata": {},
   "source": [
    "---"
   ]
  },
  {
   "cell_type": "markdown",
   "id": "5a463d69-a67c-4653-af59-a588a83e53d6",
   "metadata": {},
   "source": [
    "### Function Execution"
   ]
  },
  {
   "cell_type": "code",
   "execution_count": 57,
   "id": "1c0896a7-f94f-4441-bc6c-3a1db78ae7d2",
   "metadata": {},
   "outputs": [
    {
     "name": "stdout",
     "output_type": "stream",
     "text": [
      "Training Logistic Regression...\n",
      "\n",
      "Epoch 0: Cost = 0.8809, W = 0.5000, b = 0.0000\n",
      "Epoch 100: Cost = 0.3946, W = 0.3677, b = -1.4545\n",
      "Epoch 200: Cost = 0.3052, W = 0.5196, b = -2.3839\n",
      "Epoch 300: Cost = 0.2565, W = 0.6343, b = -3.0709\n",
      "Epoch 400: Cost = 0.2256, W = 0.7267, b = -3.6176\n",
      "Epoch 500: Cost = 0.2042, W = 0.8046, b = -4.0741\n",
      "Epoch 600: Cost = 0.1882, W = 0.8723, b = -4.4679\n",
      "Epoch 700: Cost = 0.1757, W = 0.9324, b = -4.8158\n",
      "Epoch 800: Cost = 0.1656, W = 0.9866, b = -5.1285\n",
      "Epoch 900: Cost = 0.1573, W = 1.0361, b = -5.4132\n",
      "\n",
      "Testing Model:\n",
      "Prediction for x = 4.5: 0\n",
      "Prediction for x = 6.5: 1\n",
      "\n"
     ]
    },
    {
     "data": {
      "image/png": "[encoded data removed]",
      "text/plain": [
       "<Figure size 640x480 with 1 Axes>"
      ]
     },
     "metadata": {},
     "output_type": "display_data"
    }
   ],
   "source": [
    "# running the function\n",
    "LogR(X, Y) # using the Logistic Regression function based upon the x and y values"
   ]
  },
  {
   "cell_type": "markdown",
   "id": "949ce01e-451f-4af7-a13a-0099a7b7458a",
   "metadata": {},
   "source": [
    "---"
   ]
  }
 ],
 "metadata": {
  "kernelspec": {
   "display_name": "Python 3 (ipykernel)",
   "language": "python",
   "name": "python3"
  },
  "language_info": {
   "codemirror_mode": {
    "name": "ipython",
    "version": 3
   },
   "file_extension": ".py",
   "mimetype": "text/x-python",
   "name": "python",
   "nbconvert_exporter": "python",
   "pygments_lexer": "ipython3",
   "version": "3.13.2"
  }
 },
 "nbformat": 4,
 "nbformat_minor": 5
}
